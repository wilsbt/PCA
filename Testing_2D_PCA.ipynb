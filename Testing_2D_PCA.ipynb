{
 "cells": [
  {
   "cell_type": "markdown",
   "id": "6f741c45",
   "metadata": {},
   "source": [
    "This notebook was created for testing PCA on different datasets to find the limitations of the PCA algorithm. \n",
    "\n",
    "For each test, a dataset was created consisting of two one dimensional arrays $X$ and $y$. These were the plotted. PCA was applied to find the principal components and the way these explained the data was examined. The data was transoformed along the first principle componet and then back into the orignal coordinate system to see the effect of the transform. The amound of information retained was noted."
   ]
  },
  {
   "cell_type": "markdown",
   "id": "b7c5c40d",
   "metadata": {},
   "source": [
    "# Creating a PCA algorithm"
   ]
  },
  {
   "cell_type": "code",
   "execution_count": 103,
   "id": "b70164fd",
   "metadata": {},
   "outputs": [],
   "source": [
    "import numpy as np\n",
    "import matplotlib.pyplot as plt"
   ]
  },
  {
   "cell_type": "code",
   "execution_count": 1,
   "id": "c59b18f0",
   "metadata": {},
   "outputs": [],
   "source": [
    "def standardise(x):\n",
    "    mean = np.mean(x)\n",
    "    std = np.std(x)\n",
    "    return (x - mean)/std"
   ]
  },
  {
   "cell_type": "code",
   "execution_count": 77,
   "id": "438bdf27",
   "metadata": {},
   "outputs": [],
   "source": [
    "def cov(X, y):\n",
    "    \"\"\"Covariance between X and y\"\"\"\n",
    "    s = 0\n",
    "    mu_X = sum(X)/len(X)\n",
    "    mu_y = sum(y)/len(X)\n",
    "    for i in range(len(X)):\n",
    "        s += (X[i] - mu_X)*(y[i] - mu_y)\n",
    "    return s/(len(X)-1)"
   ]
  },
  {
   "cell_type": "code",
   "execution_count": 78,
   "id": "325de575",
   "metadata": {},
   "outputs": [],
   "source": [
    "def cov_matrix(X, y):\n",
    "    \"\"\"\n",
    "    X: array of data (1D)\n",
    "    y: array of data (1D)\n",
    "    \n",
    "    \n",
    "    returns the principle components of the dataset.\n",
    "    \"\"\"\n",
    "    \n",
    "    c = np.zeros((2,2))\n",
    "    \n",
    "    data=[X, y]\n",
    "    \n",
    "    for i in range(2):\n",
    "        for j in range(2):\n",
    "            c[i, j] = cov(data[i], data[j])\n",
    "    return c"
   ]
  },
  {
   "cell_type": "code",
   "execution_count": 99,
   "id": "64f1962a",
   "metadata": {},
   "outputs": [],
   "source": [
    "def PC(X, y):\n",
    "    \"\"\"\n",
    "    X: array of data (1D)\n",
    "    y: array of data (1D)\n",
    "    \n",
    "    \n",
    "    returns the principle components of the dataset.\n",
    "    \"\"\"\n",
    "    X = standardise(X)\n",
    "    y = standardise(y)\n",
    "    \n",
    "    c = cov_matrix(X, y)\n",
    "    \n",
    "    val, vec = np.linalg.eig(c)\n",
    "    \n",
    "    cvar = np.var(np.dot(np.array([X,y]).T, vec), axis=0)\n",
    "    idx = np.argsort(-cvar)\n",
    "    cvar = cvar[idx]\n",
    "    vec = vec[:, idx]\n",
    "    val = val[idx]\n",
    "    return vec[:,0], vec[:,1]"
   ]
  },
  {
   "cell_type": "code",
   "execution_count": 100,
   "id": "2607f7b6",
   "metadata": {},
   "outputs": [],
   "source": [
    "def PV(X, y):\n",
    "    \"\"\"\n",
    "    X: array of data (1D)\n",
    "    y: array of data (1D)\n",
    "    \n",
    "    \n",
    "    returns the principle components of the dataset.\n",
    "    \"\"\"\n",
    "    X = standardise(X)\n",
    "    y = standardise(y)\n",
    "    \n",
    "    c = cov_matrix(X, y)\n",
    "    \n",
    "    val, vec = np.linalg.eig(c)\n",
    "    \n",
    "    cvar = np.var(np.dot(np.array([X,y]).T, vec), axis=0)\n",
    "    idx = np.argsort(-cvar)\n",
    "    cvar = cvar[idx]\n",
    "    vec = vec[:, idx]\n",
    "    val = val[idx]\n",
    "    return val[0], val[1]"
   ]
  },
  {
   "cell_type": "markdown",
   "id": "e752ac0a",
   "metadata": {},
   "source": [
    "Testing"
   ]
  },
  {
   "cell_type": "code",
   "execution_count": 111,
   "id": "30df2763",
   "metadata": {},
   "outputs": [],
   "source": [
    "X = [1, 2, 2,1,3,4,3,5,6,7]\n",
    "y = [1, 3, 2,2,3,5,4,6,7,7]\n",
    "pc = PC(X,y)"
   ]
  },
  {
   "cell_type": "code",
   "execution_count": 114,
   "id": "3a5376fa",
   "metadata": {},
   "outputs": [
    {
     "data": {
      "text/plain": [
       "<matplotlib.patches.FancyArrow at 0x11c33a430>"
      ]
     },
     "execution_count": 114,
     "metadata": {},
     "output_type": "execute_result"
    },
    {
     "data": {
      "image/png": "[encoded data removed]",
      "text/plain": [
       "<Figure size 640x480 with 1 Axes>"
      ]
     },
     "metadata": {},
     "output_type": "display_data"
    }
   ],
   "source": [
    "plt.scatter(X, y)\n",
    "plt.arrow(0, 0, pc[0][0], pc[0][0], color='k', head_width=0.1)"
   ]
  },
  {
   "cell_type": "code",
   "execution_count": null,
   "id": "c75cdc4d",
   "metadata": {},
   "outputs": [],
   "source": []
  }
 ],
 "metadata": {
  "kernelspec": {
   "display_name": "Python 3 (ipykernel)",
   "language": "python",
   "name": "python3"
  },
  "language_info": {
   "codemirror_mode": {
    "name": "ipython",
    "version": 3
   },
   "file_extension": ".py",
   "mimetype": "text/x-python",
   "name": "python",
   "nbconvert_exporter": "python",
   "pygments_lexer": "ipython3",
   "version": "3.9.13"
  }
 },
 "nbformat": 4,
 "nbformat_minor": 5
}
