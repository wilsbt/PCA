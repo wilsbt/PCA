{
 "cells": [
  {
   "cell_type": "code",
   "execution_count": 2,
   "id": "87ebb853",
   "metadata": {},
   "outputs": [],
   "source": [
    "x = [1,2,3,4]\n",
    "y = [2,4,6,8]\n",
    "z = [10,9,8,7]\n",
    "data = [x,y,z]"
   ]
  },
  {
   "cell_type": "code",
   "execution_count": 3,
   "id": "7ed8d768",
   "metadata": {},
   "outputs": [
    {
     "data": {
      "text/plain": [
       "[[1, 2, 3, 4], [2, 4, 6, 8], [10, 9, 8, 7]]"
      ]
     },
     "execution_count": 3,
     "metadata": {},
     "output_type": "execute_result"
    }
   ],
   "source": [
    "data"
   ]
  },
  {
   "cell_type": "code",
   "execution_count": 32,
   "id": "5f142fc8",
   "metadata": {},
   "outputs": [
    {
     "name": "stdout",
     "output_type": "stream",
     "text": [
      "[[ 1.25  2.5  -1.25]\n",
      " [ 2.5   5.   -2.5 ]\n",
      " [-1.25 -2.5   1.25]]\n"
     ]
    }
   ],
   "source": [
    "import numpy as np\n",
    "print(np.cov(data, bias=True))"
   ]
  },
  {
   "cell_type": "code",
   "execution_count": 6,
   "id": "bd2a86c5",
   "metadata": {},
   "outputs": [],
   "source": [
    "def var(x):\n",
    "    s = 0\n",
    "    mu = sum(x)/len(x)\n",
    "    for i in range(len(x)):\n",
    "        s += (x[i] - mu)**2\n",
    "    return s/len(x)"
   ]
  },
  {
   "cell_type": "code",
   "execution_count": 11,
   "id": "0b2e8a71",
   "metadata": {},
   "outputs": [
    {
     "data": {
      "text/plain": [
       "1.25"
      ]
     },
     "execution_count": 11,
     "metadata": {},
     "output_type": "execute_result"
    }
   ],
   "source": [
    "var(z)"
   ]
  },
  {
   "cell_type": "code",
   "execution_count": 15,
   "id": "f948edde",
   "metadata": {},
   "outputs": [],
   "source": [
    "def cov(x,y):\n",
    "    s = 0\n",
    "    mu_x = sum(x)/len(x)\n",
    "    mu_y = sum(y)/len(x)\n",
    "    for i in range(len(x)):\n",
    "        s += (x[i] - mu_x)*(y[i] - mu_y)\n",
    "    return s/len(x)"
   ]
  },
  {
   "cell_type": "code",
   "execution_count": 16,
   "id": "7f866e97",
   "metadata": {},
   "outputs": [
    {
     "data": {
      "text/plain": [
       "2.5"
      ]
     },
     "execution_count": 16,
     "metadata": {},
     "output_type": "execute_result"
    }
   ],
   "source": [
    "cov(x,y)"
   ]
  },
  {
   "cell_type": "code",
   "execution_count": 34,
   "id": "adefa540",
   "metadata": {},
   "outputs": [
    {
     "data": {
      "text/plain": [
       "array([[ 1.25,  2.5 , -1.25],\n",
       "       [ 2.5 ,  5.  , -2.5 ],\n",
       "       [-1.25, -2.5 ,  1.25]])"
      ]
     },
     "execution_count": 34,
     "metadata": {},
     "output_type": "execute_result"
    }
   ],
   "source": [
    "c = np.zeros((len(data),len(data)))\n",
    "for i in range(len(data)):\n",
    "    for j in range(len(data)):\n",
    "        c[i,j] = cov(data[i], data[j])\n",
    "c"
   ]
  },
  {
   "cell_type": "markdown",
   "id": "a4c50b3d",
   "metadata": {},
   "source": [
    "We dont quite the results we are after. Will try different data to see if we get better results"
   ]
  },
  {
   "cell_type": "code",
   "execution_count": 22,
   "id": "c2c02bdb",
   "metadata": {},
   "outputs": [],
   "source": [
    "rng = np.random.RandomState(1)\n",
    "X = np.dot(rng.rand(2, 2), rng.randn(2, 200)).T"
   ]
  },
  {
   "cell_type": "code",
   "execution_count": 35,
   "id": "6033ff1c",
   "metadata": {},
   "outputs": [],
   "source": [
    "Xm = np.mean(X)\n",
    "Xs = np.std(X)\n",
    "Xv = np.var(X)"
   ]
  },
  {
   "cell_type": "code",
   "execution_count": 36,
   "id": "e1362360",
   "metadata": {},
   "outputs": [],
   "source": [
    "Xn = (X-Xm)/Xs"
   ]
  },
  {
   "cell_type": "code",
   "execution_count": null,
   "id": "bde2cb87",
   "metadata": {},
   "outputs": [],
   "source": [
    "ok so it appears using normalized data produces correct results"
   ]
  },
  {
   "cell_type": "code",
   "execution_count": null,
   "id": "13dc13d7",
   "metadata": {},
   "outputs": [],
   "source": []
  },
  {
   "cell_type": "code",
   "execution_count": null,
   "id": "a48a5cc7",
   "metadata": {},
   "outputs": [],
   "source": []
  },
  {
   "cell_type": "code",
   "execution_count": 49,
   "id": "71cfad4e",
   "metadata": {},
   "outputs": [
    {
     "data": {
      "text/plain": [
       "array([[-1.34164079, -1.34164079,  1.34164079],\n",
       "       [-0.4472136 , -0.4472136 ,  0.4472136 ],\n",
       "       [ 0.4472136 ,  0.4472136 , -0.4472136 ],\n",
       "       [ 1.34164079,  1.34164079, -1.34164079]])"
      ]
     },
     "execution_count": 49,
     "metadata": {},
     "output_type": "execute_result"
    }
   ],
   "source": [
    "data=np.array(data)\n",
    "Xm = np.mean(data.T, axis=0)\n",
    "Xs = np.std(data.T, axis=0)\n",
    "Xv = np.var(data.T, axis=0)\n",
    "Xn = (data.T-Xm)/Xs\n",
    "Xn"
   ]
  },
  {
   "cell_type": "code",
   "execution_count": null,
   "id": "9919b8c9",
   "metadata": {},
   "outputs": [],
   "source": [
    "c = np.zeros((len(data), len(data)))\n",
    "for i in range(len(Xn)):\n",
    "    for j in range(len(Xn)):\n",
    "        c[i,j] = cov(Xn[i], Xn[j])\n",
    "c"
   ]
  }
 ],
 "metadata": {
  "kernelspec": {
   "display_name": "Python 3 (ipykernel)",
   "language": "python",
   "name": "python3"
  },
  "language_info": {
   "codemirror_mode": {
    "name": "ipython",
    "version": 3
   },
   "file_extension": ".py",
   "mimetype": "text/x-python",
   "name": "python",
   "nbconvert_exporter": "python",
   "pygments_lexer": "ipython3",
   "version": "3.9.13"
  }
 },
 "nbformat": 4,
 "nbformat_minor": 5
}
