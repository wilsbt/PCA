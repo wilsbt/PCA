{
 "cells": [
  {
   "cell_type": "markdown",
   "id": "0672b677",
   "metadata": {},
   "source": [
    "Notebook written to show the steps involved in finding the covariance matrix."
   ]
  },
  {
   "cell_type": "markdown",
   "id": "74db2262",
   "metadata": {},
   "source": [
    "First we create some data to find the covariance matrix of."
   ]
  },
  {
   "cell_type": "code",
   "execution_count": 23,
   "id": "87ebb853",
   "metadata": {},
   "outputs": [],
   "source": [
    "x = [1,2,3,4]\n",
    "y = [2,4,6,8]\n",
    "z = [10,9,8,7]\n",
    "data = [x,y,z]"
   ]
  },
  {
   "cell_type": "code",
   "execution_count": 24,
   "id": "7ed8d768",
   "metadata": {},
   "outputs": [
    {
     "name": "stdout",
     "output_type": "stream",
     "text": [
      "[[ 1  2  3  4]\n",
      " [ 2  4  6  8]\n",
      " [10  9  8  7]]\n"
     ]
    }
   ],
   "source": [
    "import numpy as np\n",
    "data = np.array(data) # converting to np array\n",
    "print(data) # note that the rows correspond to the vatriables x, y z"
   ]
  },
  {
   "cell_type": "code",
   "execution_count": 30,
   "id": "5f142fc8",
   "metadata": {},
   "outputs": [
    {
     "name": "stdout",
     "output_type": "stream",
     "text": [
      "[[ 1.66666667  3.33333333 -1.66666667]\n",
      " [ 3.33333333  6.66666667 -3.33333333]\n",
      " [-1.66666667 -3.33333333  1.66666667]]\n"
     ]
    }
   ],
   "source": [
    "print(np.cov(data)) # the covariance matrix"
   ]
  },
  {
   "cell_type": "code",
   "execution_count": 28,
   "id": "6af42c12",
   "metadata": {},
   "outputs": [
    {
     "name": "stdout",
     "output_type": "stream",
     "text": [
      "[[ 1.25  2.5  -1.25]\n",
      " [ 2.5   5.   -2.5 ]\n",
      " [-1.25 -2.5   1.25]]\n"
     ]
    }
   ],
   "source": [
    "print(np.cov(data, bias=True)) # setting bias=True corresponds to normalization by a factor of N instead of (N-1)"
   ]
  },
  {
   "cell_type": "markdown",
   "id": "8dc43eb7",
   "metadata": {},
   "source": [
    "If $x$ is a vairable with $N$ data points (i.e. $x=\\{x_1, x_2, \\ldots, x_N\\}$, the variance is given by $\\text{var}(x)=\\frac{1}{N}\\sum_{i=1}^N (x_i-\\mu)^2$ where $\\mu=\\frac{1}{N}\\sum_{i=1}^N x_i$ is the mean of the variable. The variance is essentially the sum of the differences between each component and the mean squared."
   ]
  },
  {
   "cell_type": "code",
   "execution_count": 32,
   "id": "bd2a86c5",
   "metadata": {},
   "outputs": [],
   "source": [
    "def var(x):\n",
    "    s = 0\n",
    "    mu = sum(x)/len(x)\n",
    "    for i in range(len(x)):\n",
    "        s += (x[i] - mu)**2\n",
    "    return s/len(x)"
   ]
  },
  {
   "cell_type": "code",
   "execution_count": 35,
   "id": "0b2e8a71",
   "metadata": {},
   "outputs": [
    {
     "data": {
      "text/plain": [
       "(1.25, 5.0, 1.25)"
      ]
     },
     "execution_count": 35,
     "metadata": {},
     "output_type": "execute_result"
    }
   ],
   "source": [
    "var(x), var(y), var(z)"
   ]
  },
  {
   "cell_type": "markdown",
   "id": "b16ac7af",
   "metadata": {},
   "source": [
    "If we scale the final result by $N-1$ instead of $N$, $\\text{var}(x)=\\frac{1}{N-1}\\sum_{i=1}^N (x_i-\\mu)^2$,  we get the variance with no bias."
   ]
  },
  {
   "cell_type": "code",
   "execution_count": 36,
   "id": "60278574",
   "metadata": {},
   "outputs": [],
   "source": [
    "def var(x):\n",
    "    s = 0\n",
    "    mu = sum(x)/len(x)\n",
    "    for i in range(len(x)):\n",
    "        s += (x[i] - mu)**2\n",
    "    return s/(len(x)-1)"
   ]
  },
  {
   "cell_type": "code",
   "execution_count": 37,
   "id": "8baf4bc0",
   "metadata": {},
   "outputs": [
    {
     "data": {
      "text/plain": [
       "(1.6666666666666667, 6.666666666666667, 1.6666666666666667)"
      ]
     },
     "execution_count": 37,
     "metadata": {},
     "output_type": "execute_result"
    }
   ],
   "source": [
    "var(x), var(y), var(z)"
   ]
  },
  {
   "cell_type": "markdown",
   "id": "e60a776b",
   "metadata": {},
   "source": [
    "# Covariance function"
   ]
  },
  {
   "cell_type": "markdown",
   "id": "35f967a4",
   "metadata": {},
   "source": [
    "The covariance of two variables $x$ and $y$ is given by $\\text{cov}(x,y)=\\frac{1}{N}\\sum_{i=1}^N (x_i-\\mu_x)(y_i-\\mu_y)$."
   ]
  },
  {
   "cell_type": "code",
   "execution_count": 38,
   "id": "f948edde",
   "metadata": {},
   "outputs": [],
   "source": [
    "def cov(x,y):\n",
    "    s = 0\n",
    "    mu_x = sum(x)/len(x)\n",
    "    mu_y = sum(y)/len(x)\n",
    "    for i in range(len(x)):\n",
    "        s += (x[i] - mu_x)*(y[i] - mu_y)\n",
    "    return s/len(x)"
   ]
  },
  {
   "cell_type": "code",
   "execution_count": 39,
   "id": "7f866e97",
   "metadata": {},
   "outputs": [
    {
     "data": {
      "text/plain": [
       "2.5"
      ]
     },
     "execution_count": 39,
     "metadata": {},
     "output_type": "execute_result"
    }
   ],
   "source": [
    "cov(x,y)"
   ]
  },
  {
   "cell_type": "markdown",
   "id": "8c1420bc",
   "metadata": {},
   "source": [
    "Once again we can rescale the covariance function with $N-1$, $\\text{cov}(x,y)=\\frac{1}{N-1}\\sum_{i=1}^N (x_i-\\mu_x)(y_i-\\mu_y)$, to get the result with no bias."
   ]
  },
  {
   "cell_type": "code",
   "execution_count": 40,
   "id": "f0044724",
   "metadata": {},
   "outputs": [],
   "source": [
    "def cov(x,y):\n",
    "    s = 0\n",
    "    mu_x = sum(x)/len(x)\n",
    "    mu_y = sum(y)/len(x)\n",
    "    for i in range(len(x)):\n",
    "        s += (x[i] - mu_x)*(y[i] - mu_y)\n",
    "    return s/(len(x)-1)"
   ]
  },
  {
   "cell_type": "code",
   "execution_count": 41,
   "id": "0b1b140c",
   "metadata": {},
   "outputs": [
    {
     "data": {
      "text/plain": [
       "3.3333333333333335"
      ]
     },
     "execution_count": 41,
     "metadata": {},
     "output_type": "execute_result"
    }
   ],
   "source": [
    "cov(x,y)"
   ]
  },
  {
   "cell_type": "markdown",
   "id": "288b61f3",
   "metadata": {},
   "source": [
    "# Covariance matrix function"
   ]
  },
  {
   "cell_type": "markdown",
   "id": "c52d3738",
   "metadata": {},
   "source": [
    "We can find the covariance matrix now by using the definition of the covariance function"
   ]
  },
  {
   "cell_type": "code",
   "execution_count": 42,
   "id": "adefa540",
   "metadata": {},
   "outputs": [
    {
     "name": "stdout",
     "output_type": "stream",
     "text": [
      "[[ 1.66666667  3.33333333 -1.66666667]\n",
      " [ 3.33333333  6.66666667 -3.33333333]\n",
      " [-1.66666667 -3.33333333  1.66666667]]\n"
     ]
    }
   ],
   "source": [
    "c = np.zeros((len(data),len(data)))\n",
    "for i in range(len(data)):\n",
    "    for j in range(len(data)):\n",
    "        c[i,j] = cov(data[i], data[j])\n",
    "print(c)"
   ]
  },
  {
   "cell_type": "markdown",
   "id": "a4c50b3d",
   "metadata": {},
   "source": [
    "These results match the results from the numpy package."
   ]
  },
  {
   "cell_type": "markdown",
   "id": "9197b112",
   "metadata": {},
   "source": [
    "# Making covariance matrix for random data"
   ]
  },
  {
   "cell_type": "code",
   "execution_count": 58,
   "id": "c2c02bdb",
   "metadata": {},
   "outputs": [
    {
     "name": "stdout",
     "output_type": "stream",
     "text": [
      "(2, 200)\n"
     ]
    }
   ],
   "source": [
    "rng = np.random.RandomState(1) # seed \n",
    "X = np.dot(rng.rand(2, 2), rng.randn(2, 200))\n",
    "# print(X)\n",
    "print(np.shape(X)) # (2, 200) means we have 2 rows and 200 columns"
   ]
  },
  {
   "cell_type": "code",
   "execution_count": 89,
   "id": "6033ff1c",
   "metadata": {},
   "outputs": [
    {
     "name": "stdout",
     "output_type": "stream",
     "text": [
      "[ 0.03351168 -0.00408072]\n",
      "[0.823873   0.31358832]\n",
      "[0.67876672 0.09833763]\n"
     ]
    }
   ],
   "source": [
    "Xm = np.mean(X, axis=1) # mean\n",
    "Xs = np.std(X, axis=1) # standard deviation\n",
    "Xv = np.var(X, axis=1) # variance\n",
    "print(Xm)\n",
    "print(Xs)\n",
    "print(Xv)"
   ]
  },
  {
   "cell_type": "code",
   "execution_count": 90,
   "id": "e1362360",
   "metadata": {},
   "outputs": [
    {
     "name": "stdout",
     "output_type": "stream",
     "text": [
      "[-3.10862447e-17  0.00000000e+00]\n",
      "[1. 1.]\n",
      "[1. 1.]\n"
     ]
    }
   ],
   "source": [
    "Xn = ((X.T-Xm.T)/Xs.T).T # standardization\n",
    "print(np.mean(Xn, axis=1)) # mean\n",
    "print(np.std(Xn, axis=1)) # standard deviation\n",
    "print(np.var(Xn, axis=1))"
   ]
  },
  {
   "cell_type": "code",
   "execution_count": 91,
   "id": "9919b8c9",
   "metadata": {},
   "outputs": [
    {
     "name": "stdout",
     "output_type": "stream",
     "text": [
      "[[1.00502513 0.89385925]\n",
      " [0.89385925 1.00502513]]\n"
     ]
    }
   ],
   "source": [
    "c = np.zeros((len(Xn), len(Xn)))\n",
    "for i in range(len(Xn)):\n",
    "    for j in range(len(Xn)):\n",
    "        c[i,j] = cov(Xn[i], Xn[j])\n",
    "print(c)"
   ]
  },
  {
   "cell_type": "code",
   "execution_count": 94,
   "id": "afdd5a5d",
   "metadata": {},
   "outputs": [
    {
     "data": {
      "text/plain": [
       "array([[1.00502513, 0.89385925],\n",
       "       [0.89385925, 1.00502513]])"
      ]
     },
     "execution_count": 94,
     "metadata": {},
     "output_type": "execute_result"
    }
   ],
   "source": [
    "np.cov(Xn)"
   ]
  },
  {
   "cell_type": "code",
   "execution_count": null,
   "id": "41e0672c",
   "metadata": {},
   "outputs": [],
   "source": []
  }
 ],
 "metadata": {
  "kernelspec": {
   "display_name": "Python 3 (ipykernel)",
   "language": "python",
   "name": "python3"
  },
  "language_info": {
   "codemirror_mode": {
    "name": "ipython",
    "version": 3
   },
   "file_extension": ".py",
   "mimetype": "text/x-python",
   "name": "python",
   "nbconvert_exporter": "python",
   "pygments_lexer": "ipython3",
   "version": "3.9.13"
  }
 },
 "nbformat": 4,
 "nbformat_minor": 5
}
